{
  "nbformat": 4,
  "nbformat_minor": 0,
  "metadata": {
    "colab": {
      "name": "xraycorona.ipynb",
      "provenance": [],
      "collapsed_sections": []
    },
    "kernelspec": {
      "name": "python3",
      "display_name": "Python 3"
    },
    "language_info": {
      "name": "python"
    }
  },
  "cells": [
    {
      "cell_type": "code",
      "execution_count": 1,
      "metadata": {
        "id": "5zkyKIdzSQnm"
      },
      "outputs": [],
      "source": [
        "import cv2\n"
      ]
    },
    {
      "cell_type": "code",
      "source": [
        "import os"
      ],
      "metadata": {
        "id": "_R7tdHScyY0y"
      },
      "execution_count": 2,
      "outputs": []
    },
    {
      "cell_type": "code",
      "source": [
        "from google.colab import drive\n",
        "drive.mount('/content/drive')"
      ],
      "metadata": {
        "colab": {
          "base_uri": "https://localhost:8080/"
        },
        "id": "cqVhRbAxzV2k",
        "outputId": "db36c8d9-d2d3-4a3f-d379-2f5cea0b53d1"
      },
      "execution_count": 3,
      "outputs": [
        {
          "output_type": "stream",
          "name": "stdout",
          "text": [
            "Mounted at /content/drive\n"
          ]
        }
      ]
    },
    {
      "cell_type": "code",
      "source": [
        "cat='/content/drive/MyDrive/Dataset'\n",
        "type(cat)\n"
      ],
      "metadata": {
        "colab": {
          "base_uri": "https://localhost:8080/"
        },
        "id": "0Ke4Gbdg56Vx",
        "outputId": "9b2e831b-b3e5-4762-a702-6c3bd79d05cd"
      },
      "execution_count": 4,
      "outputs": [
        {
          "output_type": "execute_result",
          "data": {
            "text/plain": [
              "str"
            ]
          },
          "metadata": {},
          "execution_count": 4
        }
      ]
    },
    {
      "cell_type": "code",
      "source": [
        "dataset=os.listdir(cat)\n",
        "\n"
      ],
      "metadata": {
        "id": "lEBniOLQze99"
      },
      "execution_count": 5,
      "outputs": []
    },
    {
      "cell_type": "code",
      "source": [
        "lables=[i for i in range(len(dataset))]\n"
      ],
      "metadata": {
        "id": "mN1vaS0Uz-Jf"
      },
      "execution_count": 6,
      "outputs": []
    },
    {
      "cell_type": "code",
      "source": [
        "lables"
      ],
      "metadata": {
        "colab": {
          "base_uri": "https://localhost:8080/"
        },
        "id": "72Pr-snQ0RBj",
        "outputId": "8d373d75-2e7f-4349-d89a-1ed5fc69ba31"
      },
      "execution_count": 7,
      "outputs": [
        {
          "output_type": "execute_result",
          "data": {
            "text/plain": [
              "[0, 1]"
            ]
          },
          "metadata": {},
          "execution_count": 7
        }
      ]
    },
    {
      "cell_type": "code",
      "source": [
        "label_dict=dict(zip(dataset,lables))\n",
        "\n",
        "label_dict"
      ],
      "metadata": {
        "colab": {
          "base_uri": "https://localhost:8080/"
        },
        "id": "CIiOxVPv0dmA",
        "outputId": "923a9d68-3d2e-452b-b4fc-c86fb072641f"
      },
      "execution_count": 8,
      "outputs": [
        {
          "output_type": "execute_result",
          "data": {
            "text/plain": [
              "{'Negative': 0, 'Positive': 1}"
            ]
          },
          "metadata": {},
          "execution_count": 8
        }
      ]
    },
    {
      "cell_type": "code",
      "source": [
        "\n",
        "data=[]\n",
        "target=[]\n",
        "for i in dataset:\n",
        "  folder_path =os.path.join(cat,i)\n",
        "  img_names=os.listdir(folder_path)\n",
        "  for img_name in img_names:\n",
        "    img_path=os.path.join(folder_path,img_name)\n",
        "    img=cv2.imread(img_path)\n",
        "    img_resize=cv2.resize(img,(100,100))\n",
        "    data.append(img_resize)\n",
        "    target.append(label_dict[i])\n",
        "    \n",
        "    \n"
      ],
      "metadata": {
        "id": "2HaLxfO701R7"
      },
      "execution_count": 9,
      "outputs": []
    },
    {
      "cell_type": "code",
      "source": [
        "from sklearn.model_selection import train_test_split\n",
        "X_train, X_val, y_train, y_val = train_test_split(data,target, test_size=0.20, random_state=13)\n"
      ],
      "metadata": {
        "id": "q92WMDnRXNSp"
      },
      "execution_count": 10,
      "outputs": []
    },
    {
      "cell_type": "code",
      "source": [
        "import numpy as np\n",
        "X_train=np.array(X_train)\n",
        "X_val=np.array(X_val)\n",
        "y_train=np.array(y_train)\n",
        "y_val=np.array(y_val)\n",
        "\n"
      ],
      "metadata": {
        "id": "GEmJSYnVXNbm"
      },
      "execution_count": 11,
      "outputs": []
    },
    {
      "cell_type": "code",
      "source": [
        "np.save('data',data)\n",
        "np.save('target',target)"
      ],
      "metadata": {
        "id": "amN0kZCAK_zn"
      },
      "execution_count": 12,
      "outputs": []
    },
    {
      "cell_type": "code",
      "source": [
        "from keras.utils import np_utils\n"
      ],
      "metadata": {
        "id": "aYN7xX_ZLOAR"
      },
      "execution_count": 13,
      "outputs": []
    },
    {
      "cell_type": "code",
      "source": [
        "import tensorflow as tf\n",
        "import keras"
      ],
      "metadata": {
        "id": "WBx1gnR4OKmu"
      },
      "execution_count": 14,
      "outputs": []
    },
    {
      "cell_type": "code",
      "source": [
        "KerasModel = keras.models.Sequential([\n",
        "        keras.layers.Conv2D(200,kernel_size=(3,3),activation='relu',input_shape=(100,100,3)),\n",
        "        keras.layers.Conv2D(150,kernel_size=(3,3),activation='relu'),\n",
        "        keras.layers.MaxPool2D(4,4),\n",
        "        keras.layers.Conv2D(120,kernel_size=(3,3),activation='relu'),    \n",
        "        keras.layers.Conv2D(80,kernel_size=(3,3),activation='relu'),    \n",
        "        keras.layers.Conv2D(50,kernel_size=(3,3),activation='relu'),\n",
        "        keras.layers.MaxPool2D(4,4),\n",
        "        keras.layers.Flatten() ,    \n",
        "        keras.layers.Dense(120,activation='relu') ,    \n",
        "        keras.layers.Dense(100,activation='relu') ,    \n",
        "        keras.layers.Dense(50,activation='relu') ,        \n",
        "        keras.layers.Dropout(rate=0.5) ,            \n",
        "        keras.layers.Dense(2,activation='softmax') ,    \n",
        "        ])"
      ],
      "metadata": {
        "id": "OBndGr-fMnlC"
      },
      "execution_count": 15,
      "outputs": []
    },
    {
      "cell_type": "code",
      "source": [
        "KerasModel.compile(optimizer ='adam',loss='sparse_categorical_crossentropy',metrics=['accuracy'])"
      ],
      "metadata": {
        "id": "_WennxxQN8uj"
      },
      "execution_count": 16,
      "outputs": []
    },
    {
      "cell_type": "code",
      "source": [
        "print(KerasModel.summary())"
      ],
      "metadata": {
        "colab": {
          "base_uri": "https://localhost:8080/"
        },
        "id": "79e40NfnTh7b",
        "outputId": "c1cd30de-046b-4063-fc42-e1a226fe924e"
      },
      "execution_count": 17,
      "outputs": [
        {
          "output_type": "stream",
          "name": "stdout",
          "text": [
            "Model: \"sequential\"\n",
            "_________________________________________________________________\n",
            " Layer (type)                Output Shape              Param #   \n",
            "=================================================================\n",
            " conv2d (Conv2D)             (None, 98, 98, 200)       5600      \n",
            "                                                                 \n",
            " conv2d_1 (Conv2D)           (None, 96, 96, 150)       270150    \n",
            "                                                                 \n",
            " max_pooling2d (MaxPooling2D  (None, 24, 24, 150)      0         \n",
            " )                                                               \n",
            "                                                                 \n",
            " conv2d_2 (Conv2D)           (None, 22, 22, 120)       162120    \n",
            "                                                                 \n",
            " conv2d_3 (Conv2D)           (None, 20, 20, 80)        86480     \n",
            "                                                                 \n",
            " conv2d_4 (Conv2D)           (None, 18, 18, 50)        36050     \n",
            "                                                                 \n",
            " max_pooling2d_1 (MaxPooling  (None, 4, 4, 50)         0         \n",
            " 2D)                                                             \n",
            "                                                                 \n",
            " flatten (Flatten)           (None, 800)               0         \n",
            "                                                                 \n",
            " dense (Dense)               (None, 120)               96120     \n",
            "                                                                 \n",
            " dense_1 (Dense)             (None, 100)               12100     \n",
            "                                                                 \n",
            " dense_2 (Dense)             (None, 50)                5050      \n",
            "                                                                 \n",
            " dropout (Dropout)           (None, 50)                0         \n",
            "                                                                 \n",
            " dense_3 (Dense)             (None, 2)                 102       \n",
            "                                                                 \n",
            "=================================================================\n",
            "Total params: 673,772\n",
            "Trainable params: 673,772\n",
            "Non-trainable params: 0\n",
            "_________________________________________________________________\n",
            "None\n"
          ]
        }
      ]
    },
    {
      "cell_type": "code",
      "source": [
        "epochs = 50\n",
        "ThisModel = KerasModel.fit(X_train,y_train, epochs=epochs,batch_size=64,verbose=1)\n"
      ],
      "metadata": {
        "colab": {
          "base_uri": "https://localhost:8080/"
        },
        "id": "R9h9JE_8UiAa",
        "outputId": "c2de453d-faab-4f9c-c732-445e505e958e"
      },
      "execution_count": null,
      "outputs": [
        {
          "output_type": "stream",
          "name": "stdout",
          "text": [
            "Epoch 1/50\n",
            "1/1 [==============================] - 12s 12s/step - loss: 6.6920 - accuracy: 0.4062\n",
            "Epoch 2/50\n",
            "1/1 [==============================] - 10s 10s/step - loss: 8.5432 - accuracy: 0.5000\n",
            "Epoch 3/50\n",
            "1/1 [==============================] - 10s 10s/step - loss: 8.7916 - accuracy: 0.4375\n",
            "Epoch 4/50\n",
            "1/1 [==============================] - 10s 10s/step - loss: 9.6565 - accuracy: 0.4688\n",
            "Epoch 5/50\n",
            "1/1 [==============================] - 10s 10s/step - loss: 2.8796 - accuracy: 0.5625\n",
            "Epoch 6/50\n",
            "1/1 [==============================] - 10s 10s/step - loss: 2.5676 - accuracy: 0.4375\n",
            "Epoch 7/50\n",
            "1/1 [==============================] - 10s 10s/step - loss: 1.6228 - accuracy: 0.5000\n",
            "Epoch 8/50\n",
            "1/1 [==============================] - 10s 10s/step - loss: 1.3692 - accuracy: 0.5000\n",
            "Epoch 9/50\n",
            "1/1 [==============================] - 10s 10s/step - loss: 0.6069 - accuracy: 0.7188\n",
            "Epoch 10/50\n",
            "1/1 [==============================] - 10s 10s/step - loss: 0.6306 - accuracy: 0.5938\n",
            "Epoch 11/50\n",
            "1/1 [==============================] - 10s 10s/step - loss: 0.8529 - accuracy: 0.5000\n",
            "Epoch 12/50\n"
          ]
        }
      ]
    },
    {
      "cell_type": "code",
      "source": [
        "ModelLoss, ModelAccuracy = KerasModel.evaluate(X_val, y_val)\n",
        "\n",
        "print('Test Loss is {}'.format(ModelLoss))\n",
        "print('Test Accuracy is {}'.format(ModelAccuracy ))"
      ],
      "metadata": {
        "id": "CksSkzQ4U01D"
      },
      "execution_count": null,
      "outputs": []
    },
    {
      "cell_type": "code",
      "source": [
        ""
      ],
      "metadata": {
        "id": "yYzGfw4JfP1H"
      },
      "execution_count": null,
      "outputs": []
    }
  ]
}